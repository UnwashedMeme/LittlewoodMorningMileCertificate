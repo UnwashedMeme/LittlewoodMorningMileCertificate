{
 "cells": [
  {
   "cell_type": "code",
   "execution_count": 18,
   "id": "192503ba",
   "metadata": {},
   "outputs": [],
   "source": [
    "from pathlib import Path\n",
    "import io\n",
    "import subprocess\n",
    "import PyPDF2\n"
   ]
  },
  {
   "cell_type": "code",
   "execution_count": 19,
   "id": "fd7e8f01",
   "metadata": {},
   "outputs": [],
   "source": [
    "inputfile = Path('students.tsv')"
   ]
  },
  {
   "cell_type": "code",
   "execution_count": 20,
   "id": "2968efa3",
   "metadata": {},
   "outputs": [
    {
     "data": {
      "text/plain": [
       "[{'name': 'Benet Wong', 'miles': '12.6'},\n",
       " {'name': 'Bennett Wood', 'miles': '5.0'},\n",
       " {'name': 'Chaplain Wood', 'miles': '14.8'},\n",
       " {'name': 'Foster Gilbert', 'miles': '6.0'},\n",
       " {'name': 'Hazel Kernaghan Ruiz', 'miles': '5.0'},\n",
       " {'name': 'Legacy Williams', 'miles': '8.2'},\n",
       " {'name': 'Mackenzie McConnell', 'miles': '19.0'},\n",
       " {'name': 'Tayven Mcconnell', 'miles': '25.6'},\n",
       " {'name': 'Adam Zayed', 'miles': '34.4'},\n",
       " {'name': 'Barbara Gowan', 'miles': '5.8'},\n",
       " {'name': 'Eshaal Naeem', 'miles': '23.6'},\n",
       " {'name': 'Josephine Sell', 'miles': '30.8'},\n",
       " {'name': 'Katherine Paramygina', 'miles': '39.0'},\n",
       " {'name': 'Madeline Mears', 'miles': '59.4'},\n",
       " {'name': 'Niko Chester', 'miles': '12.6'},\n",
       " {'name': 'Theo Lightner', 'miles': '27.0'},\n",
       " {'name': 'William Deutsch', 'miles': '16.8'},\n",
       " {'name': 'Zachary Zeglam', 'miles': '169.4'},\n",
       " {'name': 'Logan Alvarado', 'miles': '98.0'},\n",
       " {'name': 'Mateo Alvarez Vander-zanden', 'miles': '105.0'},\n",
       " {'name': 'Narifumi Fujimoto', 'miles': '5.8'},\n",
       " {'name': 'Ryan Alvarado', 'miles': '52.2'},\n",
       " {'name': 'Keonis Anderson', 'miles': '11.0'},\n",
       " {'name': 'Olivier Massolas Emile', 'miles': '5.0'},\n",
       " {'name': 'Walter Baumann', 'miles': '58.8'},\n",
       " {'name': 'Gabriella King', 'miles': '5.2'},\n",
       " {'name': 'Phoenix Martin', 'miles': '59.8'},\n",
       " {'name': 'Charlotte Grigsby', 'miles': '27.6'},\n",
       " {'name': 'Haylin Cardenas Garcia', 'miles': '6.0'},\n",
       " {'name': 'Jon Graden', 'miles': '31.8'},\n",
       " {'name': 'Kensie Allen', 'miles': '68.8'},\n",
       " {'name': 'Amere Noel- Rowe', 'miles': '8.4'},\n",
       " {'name': 'Jacoryon \"J.D.\" Minniefield', 'miles': '7.6'},\n",
       " {'name': 'Joseph Anema', 'miles': '41.0'},\n",
       " {'name': 'Malia Francois', 'miles': '8.0'},\n",
       " {'name': 'Remington Stargel', 'miles': '7.4'},\n",
       " {'name': 'Theodore Case', 'miles': '123.2'},\n",
       " {'name': 'Adan Usman', 'miles': '18.8'},\n",
       " {'name': 'Reinaldo Arias Gomez', 'miles': '5.4'},\n",
       " {'name': 'Samantha Duverglas', 'miles': '8.0'},\n",
       " {'name': 'Warren Noel', 'miles': '9.4'},\n",
       " {'name': 'Yobelsy Flores Jarquin', 'miles': '8.2'},\n",
       " {'name': \"Bry'niyah Hodges\", 'miles': '5.2'},\n",
       " {'name': 'Dariel Arias Vasquez', 'miles': '7.4'},\n",
       " {'name': 'Joel Osborne Jr', 'miles': '11.8'},\n",
       " {'name': 'Josiah Mcintyre', 'miles': '10.8'},\n",
       " {'name': 'Zoey Weaver', 'miles': '10.6'},\n",
       " {'name': 'Leahrae Naylor', 'miles': '19.0'},\n",
       " {'name': 'David Pittman', 'miles': '7.2'},\n",
       " {'name': 'Jeremiah High Jr', 'miles': '5.2'},\n",
       " {'name': 'Finn Zipper', 'miles': '7.2'},\n",
       " {'name': 'Isaac Cianci', 'miles': '154.4'},\n",
       " {'name': 'Jeremiah High Jr', 'miles': '10.0'},\n",
       " {'name': 'Max Long', 'miles': '117.6'},\n",
       " {'name': 'Scarlett Fields', 'miles': '9.4'},\n",
       " {'name': 'Theodore Fields', 'miles': '9.8'},\n",
       " {'name': 'Bridjette Felton', 'miles': '18.8'},\n",
       " {'name': 'Dorian High', 'miles': '7.2'},\n",
       " {'name': 'Joshua Mwesigye', 'miles': '5.2'},\n",
       " {'name': 'Kailey Searfass', 'miles': '112.6'},\n",
       " {'name': 'Mea Hill', 'miles': '9.8'},\n",
       " {'name': 'Thatcher Gilbert', 'miles': '10.0'},\n",
       " {'name': 'Bruce Hayes', 'miles': '9.4'},\n",
       " {'name': 'Linnea Bird', 'miles': '22.8'},\n",
       " {'name': 'Pierce Stewart', 'miles': '23.8'},\n",
       " {'name': 'David Graden Jr', 'miles': '107.6'},\n",
       " {'name': 'Jacob Hatfield', 'miles': '71.8'},\n",
       " {'name': \"Jay'liyah Richardson\", 'miles': '7.6'},\n",
       " {'name': 'Juniper Martin', 'miles': '79.0'},\n",
       " {'name': 'Nasiru Danmowa', 'miles': '117.4'},\n",
       " {'name': 'Santiago Godoy Castellano', 'miles': '5.4'},\n",
       " {'name': 'Gloria Nguyen', 'miles': '5.2'},\n",
       " {'name': 'King Williams', 'miles': '6.0'},\n",
       " {'name': 'Brielle Mccarthy', 'miles': '31.0'},\n",
       " {'name': 'Mario Porter Jr.', 'miles': '30.2'},\n",
       " {'name': 'Jolene Mcintyre', 'miles': '8.6'},\n",
       " {'name': 'Angel Gonzalez-velasquez', 'miles': '45.4'},\n",
       " {'name': 'Brody Monk', 'miles': '32.6'},\n",
       " {'name': 'Sture Jordan', 'miles': '56.2'},\n",
       " {'name': 'Caylisse Gunter', 'miles': '9.4'},\n",
       " {'name': 'Isaiah Francois', 'miles': '11.0'},\n",
       " {'name': 'Kendra Poal', 'miles': '24.0'},\n",
       " {'name': 'Laenna Manasco', 'miles': '6.2'},\n",
       " {'name': 'Leah Higgs', 'miles': '5.4'},\n",
       " {'name': 'Maximus Weaver', 'miles': '12.8'},\n",
       " {'name': 'Parker Mears', 'miles': '61.4'},\n",
       " {'name': 'Tristan Allen', 'miles': '211.8'},\n",
       " {'name': 'Caleb Knopf', 'miles': '33.2'},\n",
       " {'name': 'Emmitt Chance', 'miles': '19.0'},\n",
       " {'name': 'William Overend', 'miles': '7.6'},\n",
       " {'name': 'Hazel Cook', 'miles': '14.8'},\n",
       " {'name': 'Sami Saab', 'miles': '32.6'},\n",
       " {'name': 'Samuel Alvarado', 'miles': '99.2'},\n",
       " {'name': 'Kyren Mcconnell', 'miles': '12.4'},\n",
       " {'name': 'Brent Mccarthy', 'miles': '5.0'},\n",
       " {'name': 'Charles Case', 'miles': '25.6'},\n",
       " {'name': 'Isabelle Leu', 'miles': '9.0'},\n",
       " {'name': 'Brandon Anderson', 'miles': '17.2'},\n",
       " {'name': 'Elijah Ford', 'miles': '7.4'},\n",
       " {'name': 'Ethan Dighton', 'miles': '6.0'},\n",
       " {'name': 'Lincoln Behrndt', 'miles': '21.8'},\n",
       " {'name': 'Waylon Jackson', 'miles': '16.8'},\n",
       " {'name': \"Declan O'Connor\", 'miles': '45.4'},\n",
       " {'name': 'Kaleb Braaten', 'miles': '6.2'},\n",
       " {'name': 'Omar Saab', 'miles': '213.2'},\n",
       " {'name': 'Paul Bird', 'miles': '42.6'},\n",
       " {'name': 'Rashad Gardenhire Jr', 'miles': '9.8'}]"
      ]
     },
     "execution_count": 20,
     "metadata": {},
     "output_type": "execute_result"
    }
   ],
   "source": [
    "def readstudents(p='students.tsv'):\n",
    "    p=Path(p)\n",
    "    lines=p.read_text().split(\"\\n\")\n",
    "    for l in lines:\n",
    "        parts = l.split(\"\\t\")\n",
    "        name=parts[0].strip()\n",
    "        miles=parts[1].strip()\n",
    "        #miles=str(round(float(miles)))\n",
    "        yield {\"name\": name, \"miles\": miles}\n",
    "data = list(readstudents())\n",
    "data"
   ]
  },
  {
   "cell_type": "code",
   "execution_count": 21,
   "id": "0338abb9",
   "metadata": {},
   "outputs": [],
   "source": [
    "def readtemplate(p=\"Morning Mile Certificate - template.svg\"):\n",
    "    return Path(p).read_text()\n",
    "TEMPLATE=readtemplate()"
   ]
  },
  {
   "cell_type": "code",
   "execution_count": 22,
   "id": "90f3b22a",
   "metadata": {},
   "outputs": [],
   "source": [
    "def subst(templ, name, miles):\n",
    "    return templ.replace(\"STUDENTNAME\", name).replace(\"MILES\", miles)"
   ]
  },
  {
   "cell_type": "code",
   "execution_count": 23,
   "id": "820fd2dd",
   "metadata": {},
   "outputs": [],
   "source": [
    "def writecert(outputdir, name, miles):\n",
    "    outputdir=Path(outputdir)\n",
    "    outputdir.mkdir(exist_ok=True)\n",
    "    outfile = outputdir / name\n",
    "    outfile.write_text(subst(TEMPLATE,name,miles))"
   ]
  },
  {
   "cell_type": "code",
   "execution_count": 24,
   "id": "1351a042",
   "metadata": {},
   "outputs": [],
   "source": [
    "def svgToPDF(svg):\n",
    "    return subprocess.run([\"inkscape\", \"--pipe\", \"-o\", \"-\", \"--export-type=pdf\"], \n",
    "                          input=bytes(svg,\"utf-8\"), capture_output=True, check=True).stdout"
   ]
  },
  {
   "cell_type": "code",
   "execution_count": 25,
   "id": "0d61292b",
   "metadata": {},
   "outputs": [],
   "source": [
    "def mergepdfs(pdfs, outputfilename):\n",
    "    m = PyPDF2.PdfFileMerger()\n",
    "    for p in pdfs:\n",
    "        m.append(io.BytesIO(p))\n",
    "    m.write(outputfilename)\n",
    "    "
   ]
  },
  {
   "cell_type": "code",
   "execution_count": 27,
   "id": "69fbf1a4",
   "metadata": {},
   "outputs": [],
   "source": [
    "templ=readtemplate()\n",
    "pdfs=(svgToPDF(subst(templ, **student)) for student in data[:10])\n",
    "mergepdfs(pdfs, \"output.pdf\")"
   ]
  },
  {
   "cell_type": "code",
   "execution_count": 33,
   "id": "f8ed2d63",
   "metadata": {},
   "outputs": [],
   "source": [
    "nas=[\n",
    "    {\"name\":\"Aaron Castellanos Sanabria\", \"miles\": \"10.6\"},\n",
    "    {\"name\":\"Iñtërnâtiônàlizætiøn🏃\", \"miles\": \"10.6\"},\n",
    "    {\"name\":\"Theodore Case\", \"miles\": \"123.2\"},\n",
    "    {\"name\":\"Charles Case\", \"miles\":\"25.6\"}\n",
    "]\n",
    "templ=readtemplate()\n",
    "pdfs=(svgToPDF(subst(templ, **student)) for student in nas)\n",
    "mergepdfs(pdfs, \"test.pdf\")"
   ]
  },
  {
   "cell_type": "code",
   "execution_count": null,
   "id": "70acc990",
   "metadata": {},
   "outputs": [],
   "source": []
  }
 ],
 "metadata": {
  "kernelspec": {
   "display_name": "Python 3 (ipykernel)",
   "language": "python",
   "name": "python3"
  },
  "language_info": {
   "codemirror_mode": {
    "name": "ipython",
    "version": 3
   },
   "file_extension": ".py",
   "mimetype": "text/x-python",
   "name": "python",
   "nbconvert_exporter": "python",
   "pygments_lexer": "ipython3",
   "version": "3.10.12"
  }
 },
 "nbformat": 4,
 "nbformat_minor": 5
}
